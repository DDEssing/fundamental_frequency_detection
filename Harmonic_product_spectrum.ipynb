{
 "cells": [
  {
   "cell_type": "code",
   "execution_count": null,
   "metadata": {},
   "outputs": [],
   "source": [
    "import numpy as np\n",
    "from obspy import read\n",
    "from obspy.io.xseed import Parser\n",
    "from obspy.imaging.spectrogram import _nearest_pow_2\n",
    "from scipy import signal\n",
    "import obspy\n",
    "import matplotlib.pyplot as plt\n",
    "from IPython.display import Image\n",
    "\n",
    "from matplotlib import mlab, transforms\n",
    "plt.rcParams['image.cmap'] = 'magma'\n",
    "import math as M\n",
    "import matplotlib as mpl\n",
    "import numpy.ma as ma\n",
    "import time as time"
   ]
  },
  {
   "cell_type": "markdown",
   "metadata": {},
   "source": [
    "## Set Parameter for Station, Date, Filters"
   ]
  },
  {
   "cell_type": "code",
   "execution_count": null,
   "metadata": {},
   "outputs": [],
   "source": [
    "station = 'KNR19' ## Station\n",
    "component = 'BHZ'\n",
    "component1 = 'BH1'## Component\n",
    "component2 = 'BH2'\n",
    "year = 2017\n",
    "start_day = '030'\n",
    "#start_day = str(start_day)\n",
    "year= str(year)\n",
    "decimate_factor = 2\n",
    "pre_filt=(.01,.02,12,15) ## Parameter for filtering during response remove\n",
    "#pre_filt=(.005,.006,10,12) ## Parameter for filtering during response remove\n",
    "freq_min_bandpass = .4 ## filtercorners for filtering after response remove\n",
    "freq_max_bandpass = 10 ## filtercorners for filtering after response remove\n",
    "#per_lap = .9\n"
   ]
  },
  {
   "cell_type": "code",
   "execution_count": null,
   "metadata": {},
   "outputs": [],
   "source": [
    "st_BHZ = read('/data/cen/u254/Essing/AWI/KNIPA_NEW/' + year + '/1B/' + station + '/' + component + '.D/1B.' + station + '..' + component + '.D.' + year + '.' + start_day)\n",
    "resp_file = ('/data/cen/u254/Essing/AWI/CAL/RESP.1B.' + station + '..' + component)\n",
    "\n",
    "st_BH1 = read('/data/cen/u254/Essing/AWI/KNIPA_NEW/' + year + '/1B/' + station + '/' + component1 + '.D/1B.' + station + '..' + component1 + '.D.' + year + '.' + start_day)\n",
    "resp_file1 = ('/data/cen/u254/Essing/AWI/CAL/RESP.1B.' + station + '..' + component1)\n",
    "\n",
    "st_BH2 = read('/data/cen/u254/Essing/AWI/KNIPA_NEW/' + year + '/1B/' + station + '/' + component2 + '.D/1B.' + station + '..' + component2 + '.D.' + year + '.' + start_day)\n",
    "resp_file2 = ('/data/cen/u254/Essing/AWI/CAL/RESP.1B.' + station + '..' + component2)\n",
    "\n",
    "#st_BHZ = read('/home/david/AWI/' + year + '/1B/' + station + '/' + component + '.D/1B.' + station + '..' + component + '.D.' + year + '.' + start_day)\n",
    "#resp_file = ('/home/david/AWI/CAL/RESP.1B.' + station + '..' + component)"
   ]
  },
  {
   "cell_type": "code",
   "execution_count": null,
   "metadata": {},
   "outputs": [],
   "source": [
    "st_BHZ = st_BHZ.decimate(factor=decimate_factor)\n",
    "fs = int(st_BHZ[0].stats.sampling_rate)\n",
    "st_BHZ_simu = st_BHZ.copy()\n",
    "st_BHZ_simu.simulate(paz_remove=None, pre_filt=pre_filt, seedresp={'filename': resp_file, 'units': 'DIS'})\n",
    "\n",
    "\n",
    "st_BHZ_simu_filt = st_BHZ_simu.copy()\n",
    "st_BHZ_simu_filt = st_BHZ_simu_filt.filter('bandpass',freqmin=freq_min_bandpass, freqmax=freq_max_bandpass)\n",
    "#st_BHZ_simu_filt.merge()\n",
    "data_BHZ = np.array(st_BHZ_simu_filt[0].data)\n",
    "data_BHZ -= data_BHZ.mean()\n",
    "\n",
    "\n",
    "npts = len(data_BHZ) ## number of datapts\n",
    "wlen = float(fs*3) ## wlen for calculation of spectrogram \n",
    "nfft = int(_nearest_pow_2(wlen * fs)) ## nfft?\n",
    "\n",
    "\n",
    "# hanning window is set to default in mlab.specgram  \n",
    "specgram_BHZ, freq, time = mlab.specgram(data_BHZ, Fs=fs, NFFT=nfft)\n",
    "#specgram_BHZ_overlab, freq, time = mlab.specgram(data_BHZ, Fs=fs, NFFT=nfft, noverlap=0.1)\n",
    "#specgram_BHZ_nonoverlab, freq, time = mlab.specgram(data_BHZ, Fs=fs, NFFT=nfft)"
   ]
  },
  {
   "cell_type": "code",
   "execution_count": null,
   "metadata": {},
   "outputs": [],
   "source": [
    "st_BH1 = st_BH1.decimate(factor=decimate_factor)\n",
    "fs = int(st_BH1[0].stats.sampling_rate)\n",
    "st_BH1_simu = st_BH1.copy()\n",
    "st_BH1_simu.simulate(paz_remove=None, pre_filt=pre_filt, seedresp={'filename': resp_file1, 'units': 'DIS'})\n",
    "\n",
    "\n",
    "st_BH1_simu_filt = st_BH1_simu.copy()\n",
    "st_BH1_simu_filt = st_BH1_simu_filt.filter('bandpass',freqmin=freq_min_bandpass, freqmax=freq_max_bandpass)\n",
    "#st_BHZ_simu_filt.merge()\n",
    "data_BH1 = np.array(st_BH1_simu_filt[0].data)\n",
    "data_BH1 -= data_BH1.mean()\n",
    "\n",
    "\n",
    "npts = len(data_BH1) ## number of datapts\n",
    "wlen = float(fs*3) ## wlen for calculation of spectrogram \n",
    "nfft = int(_nearest_pow_2(wlen * fs)) ## nfft?\n",
    "\n",
    "\n",
    "# hanning window is set to default in mlab.specgram  \n",
    "specgram_BH1, freq, time = mlab.specgram(data_BH1, Fs=fs, NFFT=nfft)\n",
    "#specgram_BHZ_overlab, freq, time = mlab.specgram(data_BHZ, Fs=fs, NFFT=nfft, noverlap=0.1)\n",
    "#specgram_BHZ_nonoverlab, freq, time = mlab.specgram(data_BHZ, Fs=fs, NFFT=nfft)"
   ]
  },
  {
   "cell_type": "code",
   "execution_count": null,
   "metadata": {},
   "outputs": [],
   "source": [
    "st_BH2 = st_BH2.decimate(factor=decimate_factor)\n",
    "fs = int(st_BH2[0].stats.sampling_rate)\n",
    "st_BH2_simu = st_BH2.copy()\n",
    "st_BH2_simu.simulate(paz_remove=None, pre_filt=pre_filt, seedresp={'filename': resp_file2, 'units': 'DIS'})\n",
    "\n",
    "\n",
    "st_BH2_simu_filt = st_BH2_simu.copy()\n",
    "st_BH2_simu_filt = st_BH2_simu_filt.filter('bandpass',freqmin=freq_min_bandpass, freqmax=freq_max_bandpass)\n",
    "#st_BHZ_simu_filt.merge()\n",
    "data_BH2 = np.array(st_BH2_simu_filt[0].data)\n",
    "data_BH2 -= data_BH2.mean()\n",
    "\n",
    "\n",
    "npts = len(data_BH2) ## number of datapts\n",
    "wlen = float(fs*3) ## wlen for calculation of spectrogram \n",
    "nfft = int(_nearest_pow_2(wlen * fs)) ## nfft?\n",
    "\n",
    "\n",
    "# hanning window is set to default in mlab.specgram  \n",
    "specgram_BH2, freq, time = mlab.specgram(data_BH2, Fs=fs, NFFT=nfft)\n",
    "#specgram_BHZ_overlab, freq, time = mlab.specgram(data_BHZ, Fs=fs, NFFT=nfft, noverlap=0.1)\n",
    "#specgram_BHZ_nonoverlab, freq, time = mlab.specgram(data_BHZ, Fs=fs, NFFT=nfft)"
   ]
  },
  {
   "cell_type": "code",
   "execution_count": null,
   "metadata": {},
   "outputs": [],
   "source": [
    "print(len(freq))"
   ]
  },
  {
   "cell_type": "markdown",
   "metadata": {},
   "source": [
    "## Plotting Specgram |"
   ]
  },
  {
   "cell_type": "code",
   "execution_count": null,
   "metadata": {
    "scrolled": true
   },
   "outputs": [],
   "source": [
    "fig = plt.figure(figsize=(16,8))\n",
    "\n",
    "ax = fig.add_subplot(1, 1, 1)\n",
    "\n",
    "# Major ticks every 1, minor ticks every .5\n",
    "\n",
    "major_ticks =  np.linspace(0, 25, 26)\n",
    "minor_ticks = np.linspace(0, 25, 51)\n",
    "\n",
    "#ax.set_xticks(major_ticks)\n",
    "#ax.set_xticks(minor_ticks, minor=True)\n",
    "ax.set_yticks(major_ticks)\n",
    "ax.set_yticks(minor_ticks, minor=True)\n",
    "\n",
    "# And a corresponding grid\n",
    "ax.grid(which='both')\n",
    "\n",
    "ax.pcolormesh(time/3600, freq, 10*np.log10(specgram_BHZ), cmap='inferno')\n",
    "\n",
    "# Or if you want different settings for the grids:\n",
    "ax.grid(which='minor', alpha=0.2)\n",
    "ax.grid(which='major', alpha=0.8)\n",
    "ax.grid(alpha=.49)\n",
    "\n",
    "\n",
    "ax.set_xlabel('Time [h]')\n",
    "ax.set_ylabel('Frequency [Hz]')\n",
    "ax.set_title(station + '.' + component + '_' + 'starttime: ' +  str(st_BHZ[0].stats.starttime)[0:19])\n",
    "#plt.savefig(fname = (station + '.' + component + '_' + 'starttime:_' +  str(st_BHZ[0].stats.starttime)[0:19]+ 'TEST.png'))\n",
    "\n",
    "\n",
    "plt.show()"
   ]
  },
  {
   "cell_type": "code",
   "execution_count": null,
   "metadata": {},
   "outputs": [],
   "source": [
    "print(np.floor(np.shape(specgram_BH2)[1]/24*10))\n",
    "print(np.shape(specgram_BH2))\n",
    "print(np.shape(freq))"
   ]
  },
  {
   "cell_type": "code",
   "execution_count": null,
   "metadata": {},
   "outputs": [],
   "source": [
    "hour = np.linspace(2.5,11,86)\n",
    "for i in range(len(hour)):\n",
    "    print(((hour[i])))"
   ]
  },
  {
   "cell_type": "code",
   "execution_count": null,
   "metadata": {},
   "outputs": [],
   "source": [
    "hour = 3\n",
    "import matplotlib.gridspec as gridspec\n",
    "\n",
    "hour = np.linspace(2.5,11,86)\n",
    "#hour = np.linspace(3, 3.6, 6)\n",
    "#hour = [1,1.1]\n",
    "\n",
    "major_ticks =  np.linspace(0, 12, 13)\n",
    "minor_ticks = np.linspace(0, 12, 25)\n",
    "\n",
    "for i in range(len(hour)):\n",
    "    #print(((hour[i])))\n",
    "\n",
    "\n",
    "    number_of_fft = int(np.floor(np.shape(specgram_BH2)[1]/24*hour[i]))\n",
    "\n",
    "\n",
    "\n",
    "\n",
    "    fig= plt.figure(figsize=(16,12))\n",
    "    gs = gridspec.GridSpec(nrows=2, ncols=3, height_ratios=[1, 2])\n",
    "\n",
    "\n",
    "    #f, (ax1, ax2, ax3) = plt.subplots(1, 3, sharey=False, figsize=(16,8))\n",
    "    ax1 = fig.add_subplot(gs[0, 0])\n",
    "    ax1.plot(freq, specgram_BHZ[:,number_of_fft])\n",
    "    ax1.axvline(x=.5, linewidth=.8, color='black')\n",
    "    ax1.axvline(x=1, linewidth=.8, color='black')\n",
    "    ax1.set_title('Component BHZ')\n",
    "    ax1.set_xlim(0.3,1.5)\n",
    "    ax1.set_ylim(0,4e-11)\n",
    "    ax1.grid()\n",
    "    ax2 = fig.add_subplot(gs[0, 1])\n",
    "    ax2.plot(freq, specgram_BH1[:,number_of_fft])\n",
    "    ax2.axvline(x=.5, linewidth=.8, color='black')\n",
    "    ax2.axvline(x=1, linewidth=.8, color='black')\n",
    "    ax2.axhline(3.5e-34, color='black', lw=1)\n",
    "    ax2.set_title('Component BH1') \n",
    "    ax2.set_xlim(0.3,1.5)\n",
    "    ax2.set_ylim(0,4e-11)\n",
    "    ax2.grid()\n",
    "    ax3 = fig.add_subplot(gs[0, 2])\n",
    "    ax3.plot(freq, specgram_BH2[:,number_of_fft])\n",
    "    ax3.axvline(x=.5, linewidth=.8, color='black')\n",
    "    ax3.axvline(x=1, linewidth=.8, color='black')\n",
    "    ax3.set_title('Component BH2') \n",
    "    ax3.grid()\n",
    "    ax3.set_xlim(0.3,1.5)\n",
    "    ax3.set_ylim(0,4e-11)\n",
    "    ax4 = fig.add_subplot(gs[1:, :])\n",
    "    ax4.set_yticks(major_ticks)\n",
    "    ax4.set_yticks(minor_ticks, minor=True)\n",
    "\n",
    "    # And a corresponding grid\n",
    "    ax4.grid(which='both')\n",
    "    ax4.grid(which='minor', alpha=0.8)\n",
    "    ax4.grid(which='major', alpha=0.8)\n",
    "    ax4.grid(alpha=.95)\n",
    "    \n",
    "    \n",
    "    \n",
    "    ax4.set_xlabel('Time [h]')\n",
    "    ax4.set_ylabel('Frequency [Hz]')\n",
    "    ax4.set_title(station + '.' + component + '_' + 'starttime: ' +  str(st_BHZ[0].stats.starttime)[0:19])\n",
    "    ax4.pcolormesh(time/3600, freq, 10*np.log10(specgram_BH2), cmap='inferno')\n",
    "    ax4.axvline(x=hour[i], linewidth=.4, color='black')\n",
    "    fig.suptitle('comparison between Components')\n",
    "    plt.savefig(fname = (station + '.' + component + '_' + 'starttime:_' +  str(st_BHZ[0].stats.starttime)[0:19]+ 'actual_hour' + str(hour[i]) +'comparison between Components.png'))\n",
    "\n",
    "    #plt.show()"
   ]
  },
  {
   "cell_type": "code",
   "execution_count": null,
   "metadata": {},
   "outputs": [],
   "source": [
    "minval_freq = 20\n",
    "maxval_freq = 25\n",
    "freq_values = freq[np.where(np.logical_and(freq>minval_freq, freq<maxval_freq))]\n",
    "first_indi_to_use = np.where(freq == freq_values[0])[0]\n",
    "last_indi_to_use = np.where(freq == freq_values[-1])[0]\n",
    "\n",
    "funda_freq_amp_masekd = ma.array(specgram_BHZ)\n",
    "funda_freq_amp_masekd[int(first_indi_to_use):int(last_indi_to_use),:] = ma.masked"
   ]
  },
  {
   "cell_type": "code",
   "execution_count": null,
   "metadata": {},
   "outputs": [],
   "source": [
    "print(np.shape(specgram_BHZ)[0]/24*10)"
   ]
  },
  {
   "cell_type": "code",
   "execution_count": null,
   "metadata": {},
   "outputs": [],
   "source": [
    "plt.plot(freq, funda_freq_amp_masekd[:,425:426])\n",
    "#plt.xlim(2,12)\n",
    "plt.show()"
   ]
  },
  {
   "cell_type": "markdown",
   "metadata": {},
   "source": [
    "### HPS-Algorithmus to find fundamental frequency"
   ]
  },
  {
   "cell_type": "code",
   "execution_count": null,
   "metadata": {},
   "outputs": [],
   "source": [
    "#one_spec_signal = specgram_BHZ[:,212]\n",
    "\n",
    "threshold = 2e-55\n",
    "\n",
    "number_of_downsampling = 4\n",
    "\n",
    "\n",
    "\n",
    "\n",
    "\n",
    "funda_freq_amp = np.zeros_like(specgram_BHZ)\n",
    "harmonic_product_spectrum = np.zeros_like(specgram_BHZ)\n",
    "\n",
    "fundamenteal_freq = np.zeros((np.shape(specgram_BHZ))[1])\n",
    "amp_fundamenteal_freq = np.zeros_like(fundamenteal_freq)\n",
    "freq_value = np.zeros_like(fundamenteal_freq)\n",
    "\n",
    "for j in range((np.shape(specgram_BHZ))[1]):\n",
    "    one_spec_signal = specgram_BHZ[:,j]\n",
    "    one_spec_downsamp =  np.zeros((number_of_downsampling, len(specgram_BHZ)))\n",
    "    one_spec_downsamp[0] = one_spec_signal \n",
    "    #print(one_spec_signal)\n",
    "    for i in range(number_of_downsampling-1):\n",
    "        numbers_donwsamp = np.linspace(2,number_of_downsampling, number_of_downsampling-1)\n",
    "        #print(int(numbers_donwsamp[i]))\n",
    "        one_spec_downsamp[i+1][0:len(one_spec_signal[::int(numbers_donwsamp[i])])] = one_spec_signal[::int(numbers_donwsamp[i])]\n",
    "        #print(one_spec_downsamp)\n",
    "        \n",
    "    harmonic_product_spectrum[:,j] = one_spec_signal *  one_spec_downsamp[1] * one_spec_downsamp[2] * one_spec_downsamp[3]#* one_spec_downsamp[4]\n",
    "    #print(harmonic_product_spectrum)\n",
    "    \n",
    "    freq_value[j] = freq[np.argmax(harmonic_product_spectrum[:,j])]\n",
    "    #print(freq_value)\n",
    "    freq_pos = np.argmax(harmonic_product_spectrum[:,j])\n",
    "    #print(freq_pos)\n",
    "    \n",
    "    if np.mean(harmonic_product_spectrum[:,j]) > threshold:\n",
    "        #print(np.max(harmonic_product_spectrum[:,j]))\n",
    "        funda_freq_amp[freq_pos, j] =   np.max(harmonic_product_spectrum[:,j])\n",
    "        #amp_fundamenteal_freq[j] = \n",
    "    else:\n",
    "        funda_freq_amp[freq_pos, j] = np.NaN\n",
    "        #amp_fundamenteal_freq[j] = np.NaN"
   ]
  },
  {
   "cell_type": "code",
   "execution_count": null,
   "metadata": {},
   "outputs": [],
   "source": [
    "plt.pcolormesh(time/3600, freq, 10*np.log10(funda_freq_amp))\n",
    "plt.show()"
   ]
  },
  {
   "cell_type": "code",
   "execution_count": null,
   "metadata": {
    "scrolled": true
   },
   "outputs": [],
   "source": [
    "# Part to look up indice values for specific frequence values\n",
    "\n",
    "#minval_freq = .0\n",
    "#maxval_freq = 2\n",
    "#freq_values = freq[np.where(np.logical_and(freq>minval_freq, freq<maxval_freq))]\n",
    "#first_indi_to_use = np.where(freq == freq_values[0])[0]\n",
    "#last_indi_to_use = np.where(freq == freq_values[-1])[0]\n",
    "\n",
    "#funda_freq_amp_masekd = ma.array(funda_freq_amp)\n",
    "#funda_freq_amp_masekd[int(first_indi_to_use):int(last_indi_to_use),:] = ma.masked\n",
    "\n",
    "\n",
    "fig = plt.figure(figsize=(16,8))\n",
    "\n",
    "ax = fig.add_subplot(1, 1, 1)\n",
    "\n",
    "# Major ticks every 1, minor ticks every .5\n",
    "\n",
    "major_ticks =  np.linspace(0, 12, 13)\n",
    "minor_ticks = np.linspace(0, 12, 25)\n",
    "\n",
    "#ax.set_xticks(major_ticks)\n",
    "#ax.set_xticks(minor_ticks, minor=True)\n",
    "ax.set_yticks(major_ticks)\n",
    "ax.set_yticks(minor_ticks, minor=True)\n",
    "\n",
    "# And a corresponding grid\n",
    "ax.grid(which='both')\n",
    "\n",
    "ax.pcolormesh(time/3600, freq, 10*np.log10(specgram_BHZ), cmap='magma')\n",
    "ax.pcolormesh(time/3600, freq, 10*np.log10(funda_freq_amp), cmap='gray')\n",
    "#ax.pcolormesh(time/3600, freq,10*np.log10(funda_freq_amp_masekd))\n",
    "\n",
    "# Or if you want different settings for the grids:\n",
    "ax.grid(which='minor', alpha=0.2)\n",
    "ax.grid(which='major', alpha=0.8)\n",
    "ax.grid(alpha=.49)\n",
    "\n",
    "\n",
    "ax.set_xlabel('Time [h]')\n",
    "ax.set_ylabel('Frequency [Hz]')\n",
    "ax.set_title(station + '.' + component + '_' + 'starttime: ' +  str(st_BHZ[0].stats.starttime)[0:19])\n",
    "#plt.savefig(fname = (station + '.' + component + '_' + 'starttime:_' +  str(st_BHZ[0].stats.starttime)[0:19]+ 'TEST.png'))\n",
    "\n",
    "\n",
    "plt.show()\n"
   ]
  },
  {
   "cell_type": "code",
   "execution_count": null,
   "metadata": {},
   "outputs": [],
   "source": [
    "print(np.shape(specgram_BHZ)[1]/24*20)"
   ]
  },
  {
   "cell_type": "code",
   "execution_count": null,
   "metadata": {},
   "outputs": [],
   "source": [
    "plt.plot(freq, specgram_BHZ[:,937])\n",
    "plt.xlim(0,2)\n",
    "plt.show()"
   ]
  },
  {
   "cell_type": "code",
   "execution_count": null,
   "metadata": {},
   "outputs": [],
   "source": [
    "first_over_tone_freq = np.nonzero(funda_freq_amp_masekd)[0]*2\n",
    "second_over_tone_freq = np.nonzero(funda_freq_amp_masekd)[0]*3\n",
    "third_over_tone_freq = np.nonzero(funda_freq_amp_masekd)[0]*4\n",
    "\n",
    "\n",
    "amp_value = np.zeros(len(freq))\n",
    "for i in range(len(freq)):\n",
    "    for j in range(len(time)):\n",
    "        amp_value[i] = funda_freq_amp_masekd[i,j]"
   ]
  },
  {
   "cell_type": "code",
   "execution_count": null,
   "metadata": {},
   "outputs": [],
   "source": [
    "np.nonzero(funda_freq_amp_masekd)"
   ]
  },
  {
   "cell_type": "code",
   "execution_count": null,
   "metadata": {},
   "outputs": [],
   "source": []
  },
  {
   "cell_type": "code",
   "execution_count": null,
   "metadata": {},
   "outputs": [],
   "source": [
    "plt.pcolormesh(time/3600, freq,10*np.log10(funda_freq_amp_masekd))\n",
    "plt.ylim(0,3)\n",
    "plt.show()"
   ]
  },
  {
   "cell_type": "code",
   "execution_count": null,
   "metadata": {},
   "outputs": [],
   "source": [
    "fig = plt.figure(figsize=(16,8))\n",
    "\n",
    "ax = fig.add_subplot(1, 1, 1)\n",
    "\n",
    "# Major ticks every 1, minor ticks every .5\n",
    "\n",
    "major_ticks =  np.linspace(0, 12, 13)\n",
    "minor_ticks = np.linspace(0, 12, 25)\n",
    "\n",
    "#ax.set_xticks(major_ticks)\n",
    "#ax.set_xticks(minor_ticks, minor=True)\n",
    "ax.set_yticks(major_ticks)\n",
    "ax.set_yticks(minor_ticks, minor=True)\n",
    "\n",
    "# And a corresponding grid\n",
    "ax.grid(which='both')\n",
    "\n",
    "#ax.pcolormesh(time/3600, freq, 10*np.log10(specgram_BHZ), cmap='magma')\n",
    "ax.pcolormesh(time/3600, freq, 10*np.log10(funda_freq_amp), cmap='gray')\n",
    "\n",
    "# Or if you want different settings for the grids:\n",
    "ax.grid(which='minor', alpha=0.2)\n",
    "ax.grid(which='major', alpha=0.8)\n",
    "ax.grid(alpha=.49)\n",
    "\n",
    "\n",
    "ax.set_xlabel('Time [h]')\n",
    "ax.set_ylabel('Frequency [Hz]')\n",
    "ax.set_title(station + '.' + component + '_' + 'starttime: ' +  str(st_BHZ[0].stats.starttime)[0:19])\n",
    "#plt.savefig(fname = (station + '.' + component + '_' + 'starttime:_' +  str(st_BHZ[0].stats.starttime)[0:19]+ 'TEST.png'))\n",
    "ax.set_xlim(10,15)\n",
    "ax.set_ylim(0,1)\n",
    "ax.grid()\n",
    "\n",
    "plt.show()\n"
   ]
  },
  {
   "cell_type": "code",
   "execution_count": null,
   "metadata": {},
   "outputs": [],
   "source": [
    "plt.plot(freq, sum_freq)\n",
    "plt.xlabel('Freq [Hz]')\n",
    "#plt.xlim(0,3)\n",
    "plt.show()"
   ]
  },
  {
   "cell_type": "markdown",
   "metadata": {},
   "source": [
    "## with two X-Axes for Time and Windows"
   ]
  },
  {
   "cell_type": "code",
   "execution_count": null,
   "metadata": {},
   "outputs": [],
   "source": [
    "scale = np.linspace(0, np.shape(specgram_BHZ)[1], np.shape(specgram_BHZ)[1])"
   ]
  },
  {
   "cell_type": "code",
   "execution_count": null,
   "metadata": {},
   "outputs": [],
   "source": [
    "print((np.shape(specgram_BHZ)[0]))"
   ]
  },
  {
   "cell_type": "code",
   "execution_count": null,
   "metadata": {},
   "outputs": [],
   "source": [
    "fig = plt.figure(figsize=(16,8))\n",
    "\n",
    "ax = fig.add_subplot(1, 1, 1)\n",
    "\n",
    "# Major ticks every 1, minor ticks every .5\n",
    "\n",
    "major_ticks =  np.linspace(0, 12, 13)\n",
    "minor_ticks = np.linspace(0, 12, 25)\n",
    "\n",
    "#ax.set_xticks(major_ticks)\n",
    "#ax.set_xticks(minor_ticks, minor=True)\n",
    "ax.set_yticks(major_ticks)\n",
    "ax.set_yticks(minor_ticks, minor=True)\n",
    "\n",
    "# And a corresponding grid\n",
    "ax.grid(which='both')\n",
    "\n",
    "ax.pcolormesh(time/3600, freq, 10*np.log10(funda_freq_amp), cmap='gray')\n",
    "\n",
    "\n",
    "ax2 = ax.twiny()\n",
    "\n",
    "\n",
    "# Or if you want different settings for the grids:\n",
    "ax.grid(which='minor', alpha=0.2)\n",
    "ax.grid(which='major', alpha=0.8)\n",
    "ax.grid(alpha=.49)\n",
    "\n",
    "\n",
    "ax.set_xlabel('Time [h]')\n",
    "ax.set_ylabel('Frequency [Hz]')\n",
    "ax.set_title(station + '.' + component + '_' + 'starttime: ' +  str(st_BHZ[0].stats.starttime)[0:19], pad=40)\n",
    "#plt.savefig(fname = (station + '.' + component + '_' + 'starttime:_' +  str(st_BHZ[0].stats.starttime)[0:19]+ 'TEST.png'))\n",
    "ax2.pcolormesh(scale, freq, 10*np.log10(funda_freq_amp), cmap='gray')\n",
    "plt.show()"
   ]
  },
  {
   "cell_type": "code",
   "execution_count": null,
   "metadata": {},
   "outputs": [],
   "source": [
    "fig = plt.figure(figsize=(16,8))\n",
    "\n",
    "ax = fig.add_subplot(1, 1, 1)\n",
    "\n",
    "# Major ticks every 1, minor ticks every .5\n",
    "\n",
    "#major_ticks =  np.linspace(0, 12, 13)\n",
    "#minor_ticks = np.linspace(0, 12, 25)\n",
    "\n",
    "#ax.set_xticks(major_ticks)\n",
    "#ax.set_xticks(minor_ticks, minor=True)\n",
    "#ax.set_yticks(major_ticks)\n",
    "#ax.set_yticks(minor_ticks, minor=True)\n",
    "\n",
    "# And a corresponding grid\n",
    "#ax.grid(which='both')\n",
    "\n",
    "ax.pcolormesh(10*np.log10(funda_freq_amp), cmap='gray')\n",
    "\n",
    "\n",
    "#ax2 = ax.twiny()\n",
    "\n",
    "\n",
    "# Or if you want different settings for the grids:\n",
    "ax.grid(which='minor', alpha=0.2)\n",
    "ax.grid(which='major', alpha=0.8)\n",
    "ax.grid(alpha=.49)\n",
    "#ax.set_ylim(0,15)\n",
    "ax.set_xlim(0,15)\n",
    "\n",
    "#ax.set_xlabel('Time [h]')\n",
    "#ax.set_ylabel('Frequency [Hz]')\n",
    "#ax.set_title(station + '.' + component + '_' + 'starttime: ' +  str(st_BHZ[0].stats.starttime)[0:19], pad=40)\n",
    "#plt.savefig(fname = (station + '.' + component + '_' + 'starttime:_' +  str(st_BHZ[0].stats.starttime)[0:19]+ 'TEST.png'))\n",
    "#plt.colorbar()\n",
    "plt.show()\n"
   ]
  },
  {
   "cell_type": "code",
   "execution_count": null,
   "metadata": {},
   "outputs": [],
   "source": []
  },
  {
   "cell_type": "code",
   "execution_count": null,
   "metadata": {},
   "outputs": [],
   "source": [
    "plt.plot(freq, harmonic_product_spectrum[:,8:9], label='8', color='blue')\n",
    "plt.plot(freq, harmonic_product_spectrum[:,9:10], label='9', color='red')\n",
    "plt.plot(freq, harmonic_product_spectrum[:,10:11], label='10', color='orange')\n",
    "plt.plot(freq, harmonic_product_spectrum[:,11:12], label='11', color='green')\n",
    "plt.plot(freq, harmonic_product_spectrum[:,12:13], label='12', color='yellow')\n",
    "#plt.plot(freq, harmonic_product_spectrum[:,202:203],  label='singal', color='red')\n",
    "#plt.semilogy(freq, harmonic_product_spectrum[:,770:771],  label='no singal', color='green')\n",
    "plt.xlim(0.4,0.8)\n",
    "#plt.ylim(0,2e-34)\n",
    "plt.legend()\n",
    "plt.show()"
   ]
  },
  {
   "cell_type": "code",
   "execution_count": null,
   "metadata": {},
   "outputs": [],
   "source": [
    "print(np.mean(harmonic_product_spectrum[:,770:771]), 'mean of no signal')\n",
    "print(np.max(harmonic_product_spectrum[:,770:771]), 'max of no signal')\n",
    "\n",
    "\n",
    "print(np.mean(harmonic_product_spectrum[:,813:814]), 'mean of SIGNAL')\n",
    "print(np.max(harmonic_product_spectrum[:,813:814]), 'max of  SIGNAL')\n",
    "\n"
   ]
  },
  {
   "cell_type": "code",
   "execution_count": null,
   "metadata": {},
   "outputs": [],
   "source": [
    "#plt.semilogy(freq, specgram_BHZ[:,742])\n",
    "plt.semilogy(freq, specgram_BHZ[:,743], color='red')\n",
    "plt.semilogy(freq, specgram_BHZ[:,223], color='blue')\n",
    "\n",
    "plt.show()"
   ]
  },
  {
   "cell_type": "code",
   "execution_count": null,
   "metadata": {},
   "outputs": [],
   "source": [
    "\n",
    "\n",
    "f, (ax1, ax2) = plt.subplots(1, 2, sharey=False, figsize=(16,8))\n",
    "ax1.plot(fundamenteal_freq, 'o')\n",
    "ax1.set_title('freq')\n",
    "#ax1.set_xlim(0,3)\n",
    "ax1.grid()\n",
    "ax2.semilogy((amp_fundamenteal_freq), '.')\n",
    "ax2.axhline(3.5e-34, color='black', lw=1)\n",
    "ax2.set_title('Amp') \n",
    "ax2.grid()\n",
    "plt.show()"
   ]
  },
  {
   "cell_type": "code",
   "execution_count": null,
   "metadata": {},
   "outputs": [],
   "source": [
    "plt.pcolormesh( 10*np.log10(one_spec_downsamp))\n",
    "plt.colorbar()\n",
    "plt.show()"
   ]
  },
  {
   "cell_type": "code",
   "execution_count": null,
   "metadata": {},
   "outputs": [],
   "source": [
    "#plt.plot(freq, 10*np.log(hps))\n",
    "plt.plot(freq, (hps))\n",
    "plt.xlabel('Frequency [Hz]')\n",
    "plt.xlim(0,3)\n",
    "plt.grid()\n",
    "plt.show()"
   ]
  },
  {
   "cell_type": "code",
   "execution_count": null,
   "metadata": {},
   "outputs": [],
   "source": [
    "print(freq[np.argmax(hps)])"
   ]
  },
  {
   "cell_type": "code",
   "execution_count": null,
   "metadata": {},
   "outputs": [],
   "source": [
    "one_spec_downsamp = 10*np.log10(one_spec_downsamp)\n",
    "product = np.prod(10*np.log10(one_spec_downsamp), axis=0)    \n",
    "    "
   ]
  },
  {
   "cell_type": "code",
   "execution_count": null,
   "metadata": {},
   "outputs": [],
   "source": [
    "f, ax = plt.subplots(2, 2, sharex=False, figsize=(16,8))\n",
    "ax[0, 0].plot(freq, (specgram_BHZ[:,212]))\n",
    "ax[0, 0].set_title('Specgram of Signal')\n",
    "ax[0, 0].set_ylim(0,5e-11)\n",
    "ax[0, 0].grid()\n",
    "ax[0, 1].plot(freq, (specgram_BHZ[:,659]))\n",
    "ax[0, 1].set_title('Specgram of missing Signal')\n",
    "ax[0, 1].set_ylim(0,5e-11)\n",
    "ax[0, 1].grid()\n",
    "ax[1, 0].plot(freq, (hps_spectrum_signal))\n",
    "ax[1, 0].plot(freq[np.argmax(hps_spectrum_signal)], np.max(hps_spectrum_signal), '.')\n",
    "ax[1, 0].set_title('Fundamental Frequency of Signal after HPS')\n",
    "ax[1, 0].set_ylim(0,2e-45)\n",
    "ax[1, 0].grid()\n",
    "ax[1, 1].plot(freq, (hps_spectrum))\n",
    "ax[1, 1].plot(freq[np.argmax(hps_spectrum)], np.max(hps_spectrum), 'o')\n",
    "ax[1, 1].set_title('Fundamental Frequency of Data without Signal after HPS') \n",
    "ax[1, 1].set_ylim(0,2e-45)\n",
    "ax[1, 1].grid()\n",
    "\n",
    "plt.show()"
   ]
  },
  {
   "cell_type": "code",
   "execution_count": null,
   "metadata": {},
   "outputs": [],
   "source": [
    "    \n",
    "\n",
    "# downsampling by factor 2 \n",
    "\n",
    "one_spec_downsamp_2 =  np.zeros(len(one_spec_signal))\n",
    "one_spec_downsamp_2[0:len(one_spec_signal[::2])] = one_spec_signal[::2]\n",
    "#hps_spectrum = one_spec_downsamp_2 * one_spec\n",
    "\n",
    "# downsampling by factor 3\n",
    "\n",
    "one_spec_downsamp_3 =  np.zeros(len(one_spec_signal))\n",
    "one_spec_downsamp_3[0:len(one_spec_signal[::3])] = one_spec_signal[::3]\n",
    "\n",
    "# downsampling by factor 4\n",
    "\n",
    "one_spec_downsamp_4 =  np.zeros(len(one_spec_signal))\n",
    "one_spec_downsamp_4[0:len(one_spec_signal[::4])] = one_spec_signal[::4]\n",
    "\n",
    "# multiply all downsamps \n",
    "\n",
    "hps_spectrum_signal =  one_spec_signal * one_spec_downsamp_2 * one_spec_downsamp_3 *  one_spec_downsamp_4"
   ]
  },
  {
   "cell_type": "code",
   "execution_count": null,
   "metadata": {},
   "outputs": [],
   "source": [
    "one_spec = specgram_BHZ[:,659]\n",
    "\n",
    "# downsampling by factor 2 \n",
    "\n",
    "one_spec_downsamp_2 =  np.zeros(len(one_spec))\n",
    "one_spec_downsamp_2[0:len(one_spec[::2])] = one_spec[::2]\n",
    "#hps_spectrum = one_spec_downsamp_2 * one_spec\n",
    "\n",
    "# downsampling by factor 3\n",
    "\n",
    "one_spec_downsamp_3 =  np.zeros(len(one_spec))\n",
    "one_spec_downsamp_3[0:len(one_spec[::3])] = one_spec[::3]\n",
    "\n",
    "# downsampling by factor 4\n",
    "\n",
    "one_spec_downsamp_4 =  np.zeros(len(one_spec))\n",
    "one_spec_downsamp_4[0:len(one_spec[::4])] = one_spec[::4]\n",
    "\n",
    "# multiply all downsamps \n",
    "\n",
    "hps_spectrum =  one_spec_signal * one_spec_downsamp_2 * one_spec_downsamp_3 *  one_spec_downsamp_4"
   ]
  },
  {
   "cell_type": "code",
   "execution_count": null,
   "metadata": {},
   "outputs": [],
   "source": [
    "fundamental_freq =  str(freq[np.argmax(hps_spectrum_signal)])"
   ]
  },
  {
   "cell_type": "code",
   "execution_count": null,
   "metadata": {},
   "outputs": [],
   "source": [
    "f, (ax1, ax2) = plt.subplots(1, 2, sharey=True, figsize=(16,8))\n",
    "ax1.plot(freq, (hps_spectrum_signal))\n",
    "ax1.plot(freq[np.argmax(hps_spectrum_signal)], np.max(hps_spectrum_signal), 'o')\n",
    "ax1.set_title('Signal')\n",
    "ax1.set_xlim(0,3)\n",
    "ax1.grid()\n",
    "ax2.plot(freq, (hps_spectrum))\n",
    "ax2.plot(freq[np.argmax(hps_spectrum)], np.max(hps_spectrum), 'o')\n",
    "ax2.set_title('No Signal') \n",
    "ax2.set_xlim(0,3)\n",
    "ax2.grid()\n",
    "plt.show()"
   ]
  },
  {
   "cell_type": "code",
   "execution_count": null,
   "metadata": {},
   "outputs": [],
   "source": [
    "hps_spectrum = flattend_specgram_BHZ_downsampled * flattend_specgram_BHZ"
   ]
  },
  {
   "cell_type": "code",
   "execution_count": null,
   "metadata": {},
   "outputs": [],
   "source": [
    "#plt.plot(freq, flattend_specgram_BHZ, color='red')\n",
    "#plt.plot(freq, flattend_specgram_BHZ_downsampled, color='green')\n",
    "#plt.plot(freq, 10*np.log10(hps_spectrum))\n",
    "#plt.plot(freq, (hps_spectrum))\n",
    "#plt.plot(freq, one_spec)\n",
    "plt.plot(freq, hps_spectrum)\n",
    "plt.xlim(0,3)\n",
    "plt.grid()\n",
    "plt.show()"
   ]
  },
  {
   "cell_type": "code",
   "execution_count": null,
   "metadata": {},
   "outputs": [],
   "source": [
    "fig = plt.figure()\n",
    "ax = fig.add_subplot(1, 1, 1)\n",
    "\n",
    "# Major ticks every 1, minor ticks every .5\n",
    "\n",
    "#major_ticks =  np.linspace(0, 12, 13)\n",
    "#minor_ticks = np.linspace(0, 12, 25)\n",
    "\n",
    "#ax.set_xticks(major_ticks)\n",
    "#ax.set_xticks(minor_ticks, minor=True)\n",
    "#ax.set_yticks(major_ticks)\n",
    "#ax.set_yticks(minor_ticks, minor=True)\n",
    "\n",
    "# And a corresponding grid\n",
    "ax.grid(which='both')\n",
    "\n",
    "ax.plot(freq, hps_spectrum)\n",
    "\n",
    "# Or if you want different settings for the grids:\n",
    "ax.grid(which='minor', alpha=0.2)\n",
    "ax.grid(which='major', alpha=0.5)\n",
    "\n",
    "ax.set_xlim(1,1.5)\n",
    "\n",
    "plt.show()"
   ]
  },
  {
   "cell_type": "code",
   "execution_count": null,
   "metadata": {},
   "outputs": [],
   "source": [
    "print( np.max(hps_spectrum))"
   ]
  },
  {
   "cell_type": "code",
   "execution_count": null,
   "metadata": {},
   "outputs": [],
   "source": [
    "comp.decimate(factor=2)\n",
    "comp_simu = comp.copy()\n",
    "t = comp[0].stats.starttime\n",
    "chan = (str(comp[0].stats.channel))\n",
    "path = './SPECS/KNR07/' + str(chan)\n",
    "path_parser = '/data/cen/u254/Essing/AWI'\n",
    "\n",
    "if os.path.isdir(path) == False:\n",
    "    os.mkdir(path)\n",
    "\n",
    "\n",
    "# need to remove response before calculating spectrogram and may filter...\n",
    "#print(path + '/CAL/RESP.1B.' + comp[0].stats.station + '..' + comp[0].stats.channel)\n",
    "parser01 = Parser(path_parser + '/CAL/RESP.1B.' + comp[0].stats.station + '..' + comp[0].stats.channel)\n",
    "print('parser finished')\n",
    "\n",
    "#if comp[0].stats.sampling_rate == 100:\n",
    "#    comp.simulate(seedresp={'filename': parser01, 'units': \"ACC\"})\n",
    "#    comp.decimate(factor=4)\n",
    "#    comp.filter('highpass', freq=1)\n",
    "#else:\n",
    "comp_simu.simulate(seedresp={'filename': parser01, 'units': \"ACC\"})\n",
    "comp_simu.filter('highpass', freq=1)\n",
    "    \n",
    "    \n",
    "start = time.time()\n",
    "comp_simu.trim(starttime=t+0*3600, endtime=t+24*3600)\n",
    "comp_simu.spectrogram(dbscale=True, log=False, wlen=360, outfile=(path + '/' + comp[0].stats.station + '.' + comp[0].stats.channel + '_' + str(comp[0].stats.starttime) + '.png'), show=0  ) #what values would be good for wlen? per_lap still not works\n",
    "end = time.time()"
   ]
  },
  {
   "cell_type": "code",
   "execution_count": null,
   "metadata": {},
   "outputs": [],
   "source": [
    "path = '/data/cen/u254/Essing/AWI'\n",
    "st = read(path + '/KNIPA_NEW/2017/1B/KNR01/BHZ.D/1B.KNR01..BHZ.D.2017.001')\n",
    "st.decimate(factor=2)\n",
    "#parser_path = path + '/CAL/RESP.1B.' + st[0].stats.station + '..' + st[0].stats.channel\n",
    "parser01 = Parser(path + '/CAL/RESP.1B.' + st[0].stats.station + '..' + st[0].stats.channel)\n",
    "st_simu = st.copy()\n",
    "st_simu1 = st_simu.simulate(seedresp={'filename': parser01, 'units': \"ACC\"})\n",
    "#if st[0].stats.sampling_rate == 100:\n",
    "#    st.simulate(seedresp={'filename': parser01, 'units': \"ACC\"})\n",
    "#    st.decimate(factor=4)\n",
    "#    st.filter('highpass', freq=1)\n",
    "#else:\n",
    "#    st.simulate(seedresp={'filename': parser01, 'units': \"ACC\"})\n",
    "#    \n",
    "#    st.filter('highpass', freq=1)"
   ]
  },
  {
   "cell_type": "code",
   "execution_count": null,
   "metadata": {},
   "outputs": [],
   "source": [
    "print('/data/cen/u254/Essing/AWI/CAL')\n",
    "print(path + '/CAL/RESP.1B.' + st[0].stats.station + '..' + st[0].stats.channel)\n",
    "#st.decimate(factor=2)\n",
    "#st.filter('highpass', freq=1)"
   ]
  },
  {
   "cell_type": "code",
   "execution_count": null,
   "metadata": {},
   "outputs": [],
   "source": [
    "st_simu1.plot()"
   ]
  },
  {
   "cell_type": "code",
   "execution_count": null,
   "metadata": {},
   "outputs": [],
   "source": [
    "path + '/CAL/RESP.1B.' + st[0].stats.station + '..' + st[0].stats.channel"
   ]
  },
  {
   "cell_type": "code",
   "execution_count": null,
   "metadata": {},
   "outputs": [],
   "source": [
    "print(obspy.__version__)"
   ]
  },
  {
   "cell_type": "code",
   "execution_count": null,
   "metadata": {},
   "outputs": [],
   "source": [
    "starttime1 = (((st[0].stats.starttime)+60*60))\n",
    "starttime = str(starttime)"
   ]
  },
  {
   "cell_type": "code",
   "execution_count": null,
   "metadata": {},
   "outputs": [],
   "source": [
    "print(starttime[0:4])"
   ]
  },
  {
   "cell_type": "code",
   "execution_count": null,
   "metadata": {},
   "outputs": [],
   "source": [
    "chan = comp[0].stats.channel\n",
    "station = comp[0].stats.station\n",
    "starttime1 = (((comp[0].stats.starttime)+60*60)) # to avoid mistakes on transition to new day \n",
    "starttime1 = str(starttime1)\n",
    "\n",
    "path = './SPECS/'+  starttime1[0:4] + '/' + str(station) + '/' + str(chan) + '/'\n",
    "print(path)\n",
    "\n",
    "if os.path.isdir(path) == False:\n",
    "    os.makedirs(path)"
   ]
  },
  {
   "cell_type": "code",
   "execution_count": null,
   "metadata": {},
   "outputs": [],
   "source": []
  }
 ],
 "metadata": {
  "kernelspec": {
   "display_name": "Python 3",
   "language": "python",
   "name": "python3"
  },
  "language_info": {
   "codemirror_mode": {
    "name": "ipython",
    "version": 3
   },
   "file_extension": ".py",
   "mimetype": "text/x-python",
   "name": "python",
   "nbconvert_exporter": "python",
   "pygments_lexer": "ipython3",
   "version": "3.6.4"
  }
 },
 "nbformat": 4,
 "nbformat_minor": 2
}
